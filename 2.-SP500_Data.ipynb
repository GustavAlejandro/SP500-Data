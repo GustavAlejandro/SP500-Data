{
  "nbformat": 4,
  "nbformat_minor": 0,
  "metadata": {
    "colab": {
      "provenance": []
    },
    "kernelspec": {
      "name": "python3",
      "display_name": "Python 3"
    },
    "language_info": {
      "name": "python"
    }
  },
  "cells": [
    {
      "cell_type": "markdown",
      "source": [
        "The pandas-datareader module provides a convenient way to access financial data from various sources such as Yahoo Finance and Google Finance. The DataReader function can be used to retrieve historical stock prices for any symbol within the specified date range. However, there may be some issues due to the different modules and their compatibility. At this moment (May 2023) this algorithm still works without problems. Hit me up if this is not your case.\n",
        "\n",
        "https://pydata.github.io/pandas-datareader/devel/readers/index.html\n",
        "\n",
        "https://pypi.org/project/yfinance/\n",
        "\n"
      ],
      "metadata": {
        "id": "GBpAr7zepA-S"
      }
    },
    {
      "cell_type": "code",
      "execution_count": null,
      "metadata": {
        "id": "C52quT8no9DB"
      },
      "outputs": [],
      "source": [
        "#import pandas_datareader.data as web\n",
        "import pandas as pd\n",
        "import datetime as dt\n",
        "import numpy as np\n",
        "from pandas_datareader import data as pdr\n",
        "import yfinance as yf\n",
        "yf.pdr_override()"
      ]
    },
    {
      "cell_type": "markdown",
      "source": [
        "Dates from 1/01/2017 to 31/12/2022"
      ],
      "metadata": {
        "id": "TobOVZLITxuh"
      }
    },
    {
      "cell_type": "code",
      "source": [
        "s1 = dt.date( 2017, 1, 1)\n",
        "e1 = dt.date( 2022, 12, 31)"
      ],
      "metadata": {
        "id": "JkduFDCYuD0u"
      },
      "execution_count": null,
      "outputs": []
    },
    {
      "cell_type": "markdown",
      "source": [
        "Data from the previous notebook: 1. SP500 Tickers"
      ],
      "metadata": {
        "id": "JjKGqU9ZcMc0"
      }
    },
    {
      "cell_type": "code",
      "source": [
        "datos = np.genfromtxt('/content/tickers.txt', dtype = str, skip_header = 1, delimiter = ',')"
      ],
      "metadata": {
        "id": "ShVfvxs5wSrK"
      },
      "execution_count": null,
      "outputs": []
    },
    {
      "cell_type": "code",
      "source": [
        "datos"
      ],
      "metadata": {
        "colab": {
          "base_uri": "https://localhost:8080/"
        },
        "id": "iS7QqZVcyo6E",
        "outputId": "7563c0fb-f748-4b01-a5be-cb6cfd618058"
      },
      "execution_count": null,
      "outputs": [
        {
          "output_type": "execute_result",
          "data": {
            "text/plain": [
              "array([['ATVI', 'Activision Blizzard', 'Communication Services'],\n",
              "       ['GOOGL', 'Alphabet Inc- (Class A)', 'Communication Services'],\n",
              "       ['GOOG', 'Alphabet Inc- (Class C)', 'Communication Services'],\n",
              "       ...,\n",
              "       ['SO', 'Southern Company', 'Utilities'],\n",
              "       ['WEC', 'WEC Energy Group', 'Utilities'],\n",
              "       ['XEL', 'Xcel Energy', 'Utilities']], dtype='<U36')"
            ]
          },
          "metadata": {},
          "execution_count": 32
        }
      ]
    },
    {
      "cell_type": "code",
      "source": [],
      "metadata": {
        "id": "bGQnWRB0qetG"
      },
      "execution_count": null,
      "outputs": []
    },
    {
      "cell_type": "markdown",
      "source": [
        "Stock values are shown as the closing price and the adjusted closing price. The closing price is the raw price, which is simply the cash value of the last traded price before the market closes. The adjusted closing price takes into account anything that might affect the stock price after the market closes.\n",
        "\n",
        "A stock's price is usually affected by supply and demand from market participants. However, some corporate actions, such as stock splits, dividends, and rights offerings, affect a stock's price. Adjustments allow investors to obtain an accurate record of the stock's performance. Investors should understand how corporate actions are reflected in a stock's adjusted closing price. It is especially useful when examining historical returns because it gives analysts an accurate representation of the value of the company's stock."
      ],
      "metadata": {
        "id": "F9039wyzVhKL"
      }
    },
    {
      "cell_type": "code",
      "source": [
        "data = pdr.get_data_yahoo( list(datos[:,0]), start = s1, end = e1)['Adj Close'] ## <-- Adjusted Close\n"
      ],
      "metadata": {
        "id": "m_4Jn_-EvgOI",
        "colab": {
          "base_uri": "https://localhost:8080/"
        },
        "outputId": "c68032d2-fff4-444c-cc31-493d71eb9dc4"
      },
      "execution_count": null,
      "outputs": [
        {
          "output_type": "stream",
          "name": "stdout",
          "text": [
            "[*********************100%***********************]  502 of 502 completed\n"
          ]
        }
      ]
    },
    {
      "cell_type": "code",
      "source": [
        "data.head()"
      ],
      "metadata": {
        "colab": {
          "base_uri": "https://localhost:8080/",
          "height": 417
        },
        "id": "CEHo4hG6zOAN",
        "outputId": "a1d80cf2-59fb-41a6-9210-be12b2ea2adf"
      },
      "execution_count": null,
      "outputs": [
        {
          "output_type": "execute_result",
          "data": {
            "text/plain": [
              "                    A        AAL         AAP       AAPL       ABBV        ABC  \\\n",
              "Date                                                                            \n",
              "2017-01-03  44.210854  44.741238  158.060913  27.095850  46.856438  74.368439   \n",
              "2017-01-04  44.790955  45.127754  159.358002  27.065521  47.517124  76.213921   \n",
              "2017-01-05  44.258396  44.345032  159.246826  27.203157  47.877510  75.331688   \n",
              "2017-01-06  45.637299  44.654259  157.162216  27.506430  47.892517  76.339951   \n",
              "2017-01-09  45.779968  45.494976  157.069534  27.758369  48.207855  76.952110   \n",
              "\n",
              "                  ABT       ACGL         ACN        ADBE  ...       WYNN  \\\n",
              "Date                                                      ...              \n",
              "2017-01-03  34.819309  28.629999  105.362434  103.480003  ...  80.849014   \n",
              "2017-01-04  35.095722  28.833332  105.615738  104.139999  ...  83.455849   \n",
              "2017-01-05  35.398888  28.540001  104.032501  105.910004  ...  84.528152   \n",
              "2017-01-06  36.361874  28.823334  105.217690  108.300003  ...  85.443336   \n",
              "2017-01-09  36.326218  28.406668  104.041550  108.570000  ...  85.739151   \n",
              "\n",
              "                  XEL        XOM       XRAY        XYL        YUM        ZBH  \\\n",
              "Date                                                                           \n",
              "2017-01-03  33.642067  66.233269  55.251984  45.868374  56.340511  95.412949   \n",
              "2017-01-04  33.791142  65.504532  55.704407  46.552013  56.545506  96.290176   \n",
              "2017-01-05  33.791142  64.528061  54.978649  46.127056  56.732689  96.908829   \n",
              "2017-01-06  33.890518  64.491638  54.940945  45.803726  57.419003  96.918068   \n",
              "2017-01-09  33.377033  63.427692  55.110611  45.609703  57.579441  98.801773   \n",
              "\n",
              "                 ZBRA       ZION        ZTS  \n",
              "Date                                         \n",
              "2017-01-03  86.250000  36.360283  51.360584  \n",
              "2017-01-04  87.029999  36.882374  51.858959  \n",
              "2017-01-05  84.750000  36.284512  51.686447  \n",
              "2017-01-06  85.959999  36.520290  51.849373  \n",
              "2017-01-09  85.970001  36.124508  51.705624  \n",
              "\n",
              "[5 rows x 502 columns]"
            ],
            "text/html": [
              "\n",
              "  <div id=\"df-0cdbc632-6dcd-402f-8508-051dc1a9ccee\">\n",
              "    <div class=\"colab-df-container\">\n",
              "      <div>\n",
              "<style scoped>\n",
              "    .dataframe tbody tr th:only-of-type {\n",
              "        vertical-align: middle;\n",
              "    }\n",
              "\n",
              "    .dataframe tbody tr th {\n",
              "        vertical-align: top;\n",
              "    }\n",
              "\n",
              "    .dataframe thead th {\n",
              "        text-align: right;\n",
              "    }\n",
              "</style>\n",
              "<table border=\"1\" class=\"dataframe\">\n",
              "  <thead>\n",
              "    <tr style=\"text-align: right;\">\n",
              "      <th></th>\n",
              "      <th>A</th>\n",
              "      <th>AAL</th>\n",
              "      <th>AAP</th>\n",
              "      <th>AAPL</th>\n",
              "      <th>ABBV</th>\n",
              "      <th>ABC</th>\n",
              "      <th>ABT</th>\n",
              "      <th>ACGL</th>\n",
              "      <th>ACN</th>\n",
              "      <th>ADBE</th>\n",
              "      <th>...</th>\n",
              "      <th>WYNN</th>\n",
              "      <th>XEL</th>\n",
              "      <th>XOM</th>\n",
              "      <th>XRAY</th>\n",
              "      <th>XYL</th>\n",
              "      <th>YUM</th>\n",
              "      <th>ZBH</th>\n",
              "      <th>ZBRA</th>\n",
              "      <th>ZION</th>\n",
              "      <th>ZTS</th>\n",
              "    </tr>\n",
              "    <tr>\n",
              "      <th>Date</th>\n",
              "      <th></th>\n",
              "      <th></th>\n",
              "      <th></th>\n",
              "      <th></th>\n",
              "      <th></th>\n",
              "      <th></th>\n",
              "      <th></th>\n",
              "      <th></th>\n",
              "      <th></th>\n",
              "      <th></th>\n",
              "      <th></th>\n",
              "      <th></th>\n",
              "      <th></th>\n",
              "      <th></th>\n",
              "      <th></th>\n",
              "      <th></th>\n",
              "      <th></th>\n",
              "      <th></th>\n",
              "      <th></th>\n",
              "      <th></th>\n",
              "      <th></th>\n",
              "    </tr>\n",
              "  </thead>\n",
              "  <tbody>\n",
              "    <tr>\n",
              "      <th>2017-01-03</th>\n",
              "      <td>44.210854</td>\n",
              "      <td>44.741238</td>\n",
              "      <td>158.060913</td>\n",
              "      <td>27.095850</td>\n",
              "      <td>46.856438</td>\n",
              "      <td>74.368439</td>\n",
              "      <td>34.819309</td>\n",
              "      <td>28.629999</td>\n",
              "      <td>105.362434</td>\n",
              "      <td>103.480003</td>\n",
              "      <td>...</td>\n",
              "      <td>80.849014</td>\n",
              "      <td>33.642067</td>\n",
              "      <td>66.233269</td>\n",
              "      <td>55.251984</td>\n",
              "      <td>45.868374</td>\n",
              "      <td>56.340511</td>\n",
              "      <td>95.412949</td>\n",
              "      <td>86.250000</td>\n",
              "      <td>36.360283</td>\n",
              "      <td>51.360584</td>\n",
              "    </tr>\n",
              "    <tr>\n",
              "      <th>2017-01-04</th>\n",
              "      <td>44.790955</td>\n",
              "      <td>45.127754</td>\n",
              "      <td>159.358002</td>\n",
              "      <td>27.065521</td>\n",
              "      <td>47.517124</td>\n",
              "      <td>76.213921</td>\n",
              "      <td>35.095722</td>\n",
              "      <td>28.833332</td>\n",
              "      <td>105.615738</td>\n",
              "      <td>104.139999</td>\n",
              "      <td>...</td>\n",
              "      <td>83.455849</td>\n",
              "      <td>33.791142</td>\n",
              "      <td>65.504532</td>\n",
              "      <td>55.704407</td>\n",
              "      <td>46.552013</td>\n",
              "      <td>56.545506</td>\n",
              "      <td>96.290176</td>\n",
              "      <td>87.029999</td>\n",
              "      <td>36.882374</td>\n",
              "      <td>51.858959</td>\n",
              "    </tr>\n",
              "    <tr>\n",
              "      <th>2017-01-05</th>\n",
              "      <td>44.258396</td>\n",
              "      <td>44.345032</td>\n",
              "      <td>159.246826</td>\n",
              "      <td>27.203157</td>\n",
              "      <td>47.877510</td>\n",
              "      <td>75.331688</td>\n",
              "      <td>35.398888</td>\n",
              "      <td>28.540001</td>\n",
              "      <td>104.032501</td>\n",
              "      <td>105.910004</td>\n",
              "      <td>...</td>\n",
              "      <td>84.528152</td>\n",
              "      <td>33.791142</td>\n",
              "      <td>64.528061</td>\n",
              "      <td>54.978649</td>\n",
              "      <td>46.127056</td>\n",
              "      <td>56.732689</td>\n",
              "      <td>96.908829</td>\n",
              "      <td>84.750000</td>\n",
              "      <td>36.284512</td>\n",
              "      <td>51.686447</td>\n",
              "    </tr>\n",
              "    <tr>\n",
              "      <th>2017-01-06</th>\n",
              "      <td>45.637299</td>\n",
              "      <td>44.654259</td>\n",
              "      <td>157.162216</td>\n",
              "      <td>27.506430</td>\n",
              "      <td>47.892517</td>\n",
              "      <td>76.339951</td>\n",
              "      <td>36.361874</td>\n",
              "      <td>28.823334</td>\n",
              "      <td>105.217690</td>\n",
              "      <td>108.300003</td>\n",
              "      <td>...</td>\n",
              "      <td>85.443336</td>\n",
              "      <td>33.890518</td>\n",
              "      <td>64.491638</td>\n",
              "      <td>54.940945</td>\n",
              "      <td>45.803726</td>\n",
              "      <td>57.419003</td>\n",
              "      <td>96.918068</td>\n",
              "      <td>85.959999</td>\n",
              "      <td>36.520290</td>\n",
              "      <td>51.849373</td>\n",
              "    </tr>\n",
              "    <tr>\n",
              "      <th>2017-01-09</th>\n",
              "      <td>45.779968</td>\n",
              "      <td>45.494976</td>\n",
              "      <td>157.069534</td>\n",
              "      <td>27.758369</td>\n",
              "      <td>48.207855</td>\n",
              "      <td>76.952110</td>\n",
              "      <td>36.326218</td>\n",
              "      <td>28.406668</td>\n",
              "      <td>104.041550</td>\n",
              "      <td>108.570000</td>\n",
              "      <td>...</td>\n",
              "      <td>85.739151</td>\n",
              "      <td>33.377033</td>\n",
              "      <td>63.427692</td>\n",
              "      <td>55.110611</td>\n",
              "      <td>45.609703</td>\n",
              "      <td>57.579441</td>\n",
              "      <td>98.801773</td>\n",
              "      <td>85.970001</td>\n",
              "      <td>36.124508</td>\n",
              "      <td>51.705624</td>\n",
              "    </tr>\n",
              "  </tbody>\n",
              "</table>\n",
              "<p>5 rows × 502 columns</p>\n",
              "</div>\n",
              "      <button class=\"colab-df-convert\" onclick=\"convertToInteractive('df-0cdbc632-6dcd-402f-8508-051dc1a9ccee')\"\n",
              "              title=\"Convert this dataframe to an interactive table.\"\n",
              "              style=\"display:none;\">\n",
              "        \n",
              "  <svg xmlns=\"http://www.w3.org/2000/svg\" height=\"24px\"viewBox=\"0 0 24 24\"\n",
              "       width=\"24px\">\n",
              "    <path d=\"M0 0h24v24H0V0z\" fill=\"none\"/>\n",
              "    <path d=\"M18.56 5.44l.94 2.06.94-2.06 2.06-.94-2.06-.94-.94-2.06-.94 2.06-2.06.94zm-11 1L8.5 8.5l.94-2.06 2.06-.94-2.06-.94L8.5 2.5l-.94 2.06-2.06.94zm10 10l.94 2.06.94-2.06 2.06-.94-2.06-.94-.94-2.06-.94 2.06-2.06.94z\"/><path d=\"M17.41 7.96l-1.37-1.37c-.4-.4-.92-.59-1.43-.59-.52 0-1.04.2-1.43.59L10.3 9.45l-7.72 7.72c-.78.78-.78 2.05 0 2.83L4 21.41c.39.39.9.59 1.41.59.51 0 1.02-.2 1.41-.59l7.78-7.78 2.81-2.81c.8-.78.8-2.07 0-2.86zM5.41 20L4 18.59l7.72-7.72 1.47 1.35L5.41 20z\"/>\n",
              "  </svg>\n",
              "      </button>\n",
              "      \n",
              "  <style>\n",
              "    .colab-df-container {\n",
              "      display:flex;\n",
              "      flex-wrap:wrap;\n",
              "      gap: 12px;\n",
              "    }\n",
              "\n",
              "    .colab-df-convert {\n",
              "      background-color: #E8F0FE;\n",
              "      border: none;\n",
              "      border-radius: 50%;\n",
              "      cursor: pointer;\n",
              "      display: none;\n",
              "      fill: #1967D2;\n",
              "      height: 32px;\n",
              "      padding: 0 0 0 0;\n",
              "      width: 32px;\n",
              "    }\n",
              "\n",
              "    .colab-df-convert:hover {\n",
              "      background-color: #E2EBFA;\n",
              "      box-shadow: 0px 1px 2px rgba(60, 64, 67, 0.3), 0px 1px 3px 1px rgba(60, 64, 67, 0.15);\n",
              "      fill: #174EA6;\n",
              "    }\n",
              "\n",
              "    [theme=dark] .colab-df-convert {\n",
              "      background-color: #3B4455;\n",
              "      fill: #D2E3FC;\n",
              "    }\n",
              "\n",
              "    [theme=dark] .colab-df-convert:hover {\n",
              "      background-color: #434B5C;\n",
              "      box-shadow: 0px 1px 3px 1px rgba(0, 0, 0, 0.15);\n",
              "      filter: drop-shadow(0px 1px 2px rgba(0, 0, 0, 0.3));\n",
              "      fill: #FFFFFF;\n",
              "    }\n",
              "  </style>\n",
              "\n",
              "      <script>\n",
              "        const buttonEl =\n",
              "          document.querySelector('#df-0cdbc632-6dcd-402f-8508-051dc1a9ccee button.colab-df-convert');\n",
              "        buttonEl.style.display =\n",
              "          google.colab.kernel.accessAllowed ? 'block' : 'none';\n",
              "\n",
              "        async function convertToInteractive(key) {\n",
              "          const element = document.querySelector('#df-0cdbc632-6dcd-402f-8508-051dc1a9ccee');\n",
              "          const dataTable =\n",
              "            await google.colab.kernel.invokeFunction('convertToInteractive',\n",
              "                                                     [key], {});\n",
              "          if (!dataTable) return;\n",
              "\n",
              "          const docLinkHtml = 'Like what you see? Visit the ' +\n",
              "            '<a target=\"_blank\" href=https://colab.research.google.com/notebooks/data_table.ipynb>data table notebook</a>'\n",
              "            + ' to learn more about interactive tables.';\n",
              "          element.innerHTML = '';\n",
              "          dataTable['output_type'] = 'display_data';\n",
              "          await google.colab.output.renderOutput(dataTable, element);\n",
              "          const docLink = document.createElement('div');\n",
              "          docLink.innerHTML = docLinkHtml;\n",
              "          element.appendChild(docLink);\n",
              "        }\n",
              "      </script>\n",
              "    </div>\n",
              "  </div>\n",
              "  "
            ]
          },
          "metadata": {},
          "execution_count": 45
        }
      ]
    },
    {
      "cell_type": "markdown",
      "source": [
        "Save the data"
      ],
      "metadata": {
        "id": "ealxzkqKd5VJ"
      }
    },
    {
      "cell_type": "code",
      "source": [
        "#data.to_excel(\"sp500-1510days.xlsx\")\n"
      ],
      "metadata": {
        "id": "tD2-xBWu0QHQ"
      },
      "execution_count": null,
      "outputs": []
    },
    {
      "cell_type": "code",
      "source": [
        "#data.to_csv(\"sp500-1510days.txt\")\n"
      ],
      "metadata": {
        "id": "LfE8OVC_0eqc"
      },
      "execution_count": null,
      "outputs": []
    },
    {
      "cell_type": "code",
      "source": [],
      "metadata": {
        "id": "gbRXuwwx1nM9"
      },
      "execution_count": null,
      "outputs": []
    }
  ]
}